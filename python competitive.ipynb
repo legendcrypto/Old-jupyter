{
 "cells": [
  {
   "cell_type": "code",
   "execution_count": 2,
   "metadata": {},
   "outputs": [
    {
     "name": "stdout",
     "output_type": "stream",
     "text": [
      "Sum is equal to 5\n"
     ]
    }
   ],
   "source": [
    "print(\"Sum is equal to {}\".format(5))\n"
   ]
  },
  {
   "cell_type": "code",
   "execution_count": 1,
   "metadata": {},
   "outputs": [
    {
     "name": "stdout",
     "output_type": "stream",
     "text": [
      "1\n"
     ]
    }
   ],
   "source": [
    "def gcd(a, b):\n",
    "    if a == 0:\n",
    "        return b\n",
    "    return gcd(b % a, a)\n",
    "print(gcd(2, 3))"
   ]
  },
  {
   "cell_type": "code",
   "execution_count": null,
   "metadata": {},
   "outputs": [],
   "source": [
    "for i in range(int(input())):\n",
    "    n, x = map(int, input().split())\n",
    "    a = [int(i) for i in input().split()]\n",
    "    b = [int(i) for i in input().split()]\n",
    "    for i in a:\n",
    "        \n",
    "        \n",
    "    "
   ]
  },
  {
   "cell_type": "code",
   "execution_count": null,
   "metadata": {},
   "outputs": [],
   "source": [
    "possible_primes = (3, 5, 7, 11, 13, 17)\n",
    "swapnodes = ((0, 1), (0, 3), (1, 2), (1, 4), (2, 5), (3, 4), (3, 6), (4, 5), (4, 7), (5, 8), (6, 7), (7, 8))\n",
    "queue = [[1, 2, 3, 4, 5, 6, 7,8 ,9]]\n",
    "possiblegrids = {(1, 2, 3,4, 5, 6, 7, 8, 9 ) : 0}\n",
    "while queue:\n",
    "    currg = queue.pop(0)\n",
    "    for node in swapnodes:\n",
    "        if currg[node[0]] + currg[node[1]] in possible_primes:\n",
    "            newg = currg[:]\n",
    "            newg[node[0]], newg[node[1]] = newg[node[1]], newg[node[0]]\n",
    "        if tuple(newg) not in possiblegrids:\n",
    "            possiblegrids[tuple(newg)] = possiblegrids[tuple(currg)] + 1\n",
    "            queue.append(newg)\n",
    "for i in range(int(input())):\n",
    "    input()\n",
    "    puzzle_matrix = []\n",
    "    for i in range(3):\n",
    "        puzzle_matrix += list(map(int, input().split()))\n",
    "    puzzle_matrix = tuple(puzzle_matrix)\n",
    "    if puzzle_matrix in possiblegrids:\n",
    "        print(possiblegrids[puzzle_matrix])\n",
    "    else:\n",
    "        print(-1)"
   ]
  },
  {
   "cell_type": "code",
   "execution_count": 3,
   "metadata": {},
   "outputs": [
    {
     "name": "stdout",
     "output_type": "stream",
     "text": [
      "1\n",
      "7\n",
      "5 4 5 4 5 4 5\n",
      "3 2 4 7 2 5 9\n",
      "-1\n"
     ]
    }
   ],
   "source": [
    "for i in range(int(input())):\n",
    "    n = int(input())\n",
    "    a = [int(i) for i in input().split()]\n",
    "    d = [int(i) for i in input().split()]\n",
    "    ans = -1\n",
    "    for j in range(n):\n",
    "        c = a[(i+1)%n] + a[(n+i-1)%n]\n",
    "        if (d[i] - c) > 0:\n",
    "            if d[i] > ans:\n",
    "                ans = d[i]\n",
    "    print(ans)\n",
    "    "
   ]
  }
 ],
 "metadata": {
  "kernelspec": {
   "display_name": "Python 3",
   "language": "python",
   "name": "python3"
  },
  "language_info": {
   "codemirror_mode": {
    "name": "ipython",
    "version": 3
   },
   "file_extension": ".py",
   "mimetype": "text/x-python",
   "name": "python",
   "nbconvert_exporter": "python",
   "pygments_lexer": "ipython3",
   "version": "3.8.5"
  }
 },
 "nbformat": 4,
 "nbformat_minor": 4
}
