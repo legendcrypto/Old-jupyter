{
 "cells": [
  {
   "cell_type": "markdown",
   "metadata": {},
   "source": [
    "## Selection sort"
   ]
  },
  {
   "cell_type": "code",
   "execution_count": 3,
   "metadata": {},
   "outputs": [
    {
     "data": {
      "text/plain": [
       "[5, 4, 3, 2, 1]"
      ]
     },
     "execution_count": 3,
     "metadata": {},
     "output_type": "execute_result"
    }
   ],
   "source": [
    "li = [5, 4, 3, 2, 1]\n",
    "for i in range(4):\n",
    "    min = i\n",
    "    for j in range(i+1, 5):\n",
    "        if li[min] < li[j]:\n",
    "            min = j\n",
    "    li[i], li[min] = li[min], li[i]\n",
    "li"
   ]
  },
  {
   "cell_type": "markdown",
   "metadata": {},
   "source": [
    "## Bubble sort"
   ]
  },
  {
   "cell_type": "code",
   "execution_count": 8,
   "metadata": {},
   "outputs": [
    {
     "data": {
      "text/plain": [
       "[5, 4, 2, 3, 1]"
      ]
     },
     "execution_count": 8,
     "metadata": {},
     "output_type": "execute_result"
    }
   ],
   "source": [
    "li = [5, 4, 3, 2, 1]\n",
    "for i in range(4):\n",
    "    for j in range(0, 4 - i):\n",
    "        if li[i] > li[j]:\n",
    "            li[i], li[j] = li[j], li[i]\n",
    "li\n"
   ]
  },
  {
   "cell_type": "markdown",
   "metadata": {},
   "source": [
    "## Insertion Sort "
   ]
  },
  {
   "cell_type": "code",
   "execution_count": null,
   "metadata": {},
   "outputs": [],
   "source": [
    "def insertsort(li, n):\n",
    "    for i in range(1, n):\n",
    "        temp = li[i]\n",
    "        for j in range(i-1, -1, -1):\n",
    "            if li[j] > temp:\n",
    "                li[j+1] = li[j]\n",
    "            else:\n",
    "                j += 1\n",
    "                break\n",
    "        li[j] = temp\n",
    "    \n",
    "    \n",
    "for i in range(int(input())):    \n",
    "\tn = int(int(input()))\n",
    "\tli = [int(i) for i in input().split()]\n",
    "\tinsertsort(li, n)\n"
   ]
  },
  {
   "cell_type": "markdown",
   "metadata": {},
   "source": [
    "## Quick sort"
   ]
  },
  {
   "cell_type": "code",
   "execution_count": 1,
   "metadata": {},
   "outputs": [
    {
     "name": "stdout",
     "output_type": "stream",
     "text": [
      "5\n",
      "2 2 2 2 2\n",
      "2 2 2 2 2\n"
     ]
    }
   ],
   "source": [
    "def partition(arr,start,end):\n",
    "    pivot=arr[start]\n",
    "    c=0\n",
    "    for i in range(start,end+1):\n",
    "        if pivot>arr[i]:\n",
    "            c=c+1\n",
    "    arr[start],arr[start+c]=arr[start+c],arr[start]\n",
    "    pivot_index=start+c\n",
    "    i=start\n",
    "    j=end\n",
    "    \n",
    "    while i<j:\n",
    "        if arr[i]<pivot:\n",
    "            i=i+1\n",
    "            \n",
    "        elif arr[j]>=pivot:\n",
    "            j=j-1\n",
    "            \n",
    "        else:\n",
    "            arr[i],arr[j]=arr[j],arr[i]\n",
    "            i=i+1\n",
    "            j=j-1\n",
    "    return pivot_index\n",
    "def quickSort(arr,start,end):\n",
    "\n",
    "    if(start>=end):\n",
    "        return\n",
    "    i=partition(arr,start,end)\n",
    "    quickSort(arr,start,i-1)\n",
    "    quickSort(arr,i+1,end)\n",
    "    return arr\n",
    "    \n",
    "n=int(input())\n",
    "arr=list(int(i) for i in input().strip().split(' '))\n",
    "quickSort(arr,0,n-1)\n",
    "print(*arr)"
   ]
  }
 ],
 "metadata": {
  "kernelspec": {
   "display_name": "Python 3",
   "language": "python",
   "name": "python3"
  },
  "language_info": {
   "codemirror_mode": {
    "name": "ipython",
    "version": 3
   },
   "file_extension": ".py",
   "mimetype": "text/x-python",
   "name": "python",
   "nbconvert_exporter": "python",
   "pygments_lexer": "ipython3",
   "version": "3.8.5"
  }
 },
 "nbformat": 4,
 "nbformat_minor": 4
}
