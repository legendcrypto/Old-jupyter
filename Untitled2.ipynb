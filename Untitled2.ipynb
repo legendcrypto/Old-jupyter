{
 "cells": [
  {
   "cell_type": "code",
   "execution_count": null,
   "metadata": {},
   "outputs": [],
   "source": [
    "n, m, k = map(int, input().split())\n",
    "count = 0\n",
    "for i in range(n):\n",
    "    t = [int(i) for i in input().split()]\n",
    "    q = t.pop()\n",
    "    if sum(t) >= m:\n",
    "        if q <= 10:\n",
    "            count += 1\n",
    "print(count)"
   ]
  },
  {
   "cell_type": "code",
   "execution_count": 20,
   "metadata": {},
   "outputs": [
    {
     "name": "stdout",
     "output_type": "stream",
     "text": [
      "1\n",
      "000\n",
      "111\n",
      "2\n"
     ]
    }
   ],
   "source": [
    "for _ in range(int(input())):\n",
    "    a = input()\n",
    "    b = input()\n",
    "    n = len(a)\n",
    "    c = []\n",
    "    count = 0\n",
    "    boole = True\n",
    "    boolo = True\n",
    "    for j in range(n):\n",
    "        if a[j] != b[j]:\n",
    "            c.append(1)\n",
    "        else:\n",
    "            c.append(0)\n",
    "    for i in range(n):\n",
    "        if i % 2 == 0:\n",
    "            if boole and c[i] == 1:\n",
    "                count += 1\n",
    "                boole = False\n",
    "            elif c[i] == 1:\n",
    "                if c[preve] == 0:\n",
    "                    count += 1\n",
    "            preve = i\n",
    "        elif i % 2 != 0:\n",
    "            if boolo and c[i] == 1:\n",
    "                count += 1\n",
    "                boolo = False\n",
    "            elif c[i] == 1:\n",
    "                if c[prevo] == 0:\n",
    "                    count += 1\n",
    "            prevo = i\n",
    "    print(count)\n",
    "            \n",
    "                "
   ]
  },
  {
   "cell_type": "code",
   "execution_count": 4,
   "metadata": {},
   "outputs": [
    {
     "name": "stdout",
     "output_type": "stream",
     "text": [
      "1\n",
      "3 4\n",
      "1 2 3\n",
      "0\n"
     ]
    }
   ],
   "source": [
    "t= int(input())\n",
    "for m in range(t):\n",
    "    strings = input().split(\" \")\n",
    "    N= int(strings[0])\n",
    "    H= int(strings[1])\n",
    "    strings1=input().split(\" \")\n",
    "    A= list(map(int, strings1))\n",
    "    maxi = A[0]\n",
    "    sumi = 0\n",
    "    for i in range(len(A)):\n",
    "        sumi += A[i]\n",
    "        if(maxi < A[i]):\n",
    "            maxi = A[i]\n",
    "    flag=True\n",
    "    #suitable values of K\n",
    "    avg = sumi/H\n",
    "    low = avg\n",
    "    high = maxi\n",
    "    hr = 0\n",
    "    ans = 0\n",
    "    while(low<=high):\n",
    "        mid = (low+high)/2\n",
    "        hr = 0\n",
    "        for j in range(len(A)):\n",
    "            if( A[j]%mid != 0):\n",
    "                hr += A[j]/mid + 1\n",
    "            else:\n",
    "                hr += A[j]/mid\n",
    "        if(hr <= H):\n",
    "            ans = mid\n",
    "            high = mid - 1 \n",
    "        else:\n",
    "            low = mid  + 1  \n",
    "    print(ans)"
   ]
  }
 ],
 "metadata": {
  "kernelspec": {
   "display_name": "Python 3",
   "language": "python",
   "name": "python3"
  },
  "language_info": {
   "codemirror_mode": {
    "name": "ipython",
    "version": 3
   },
   "file_extension": ".py",
   "mimetype": "text/x-python",
   "name": "python",
   "nbconvert_exporter": "python",
   "pygments_lexer": "ipython3",
   "version": "3.8.5"
  }
 },
 "nbformat": 4,
 "nbformat_minor": 4
}
