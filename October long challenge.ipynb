{
 "cells": [
  {
   "cell_type": "code",
   "execution_count": 9,
   "metadata": {},
   "outputs": [
    {
     "name": "stdout",
     "output_type": "stream",
     "text": [
      "1\n",
      "4 2 1 1\n",
      "1 3 4 5\n",
      "1\n"
     ]
    }
   ],
   "source": [
    "def find(x, a):\n",
    "    for i in range(n):\n",
    "        if a[i] == x:\n",
    "            return i\n",
    "for i in range(int(input())):\n",
    "    n, x, p, k = [int(i) for i in input().split()]\n",
    "    a = [int(i) for i in input().split()]\n",
    "    a.sort()\n",
    "    s = 0\n",
    "    if x not in a:\n",
    "        a[k-1] = x\n",
    "        a.sort()\n",
    "        s += 1\n",
    "    i = find(x, a)\n",
    "    i += 1\n",
    "    if i >= p and k <= p:\n",
    "        print(i-p + s)\n",
    "    elif i <= p and k >= p:\n",
    "        while a[i] == x:\n",
    "            i += 1\n",
    "        s += p - i\n",
    "        print(s)\n",
    "    else:\n",
    "        print(-1)"
   ]
  },
  {
   "cell_type": "code",
   "execution_count": null,
   "metadata": {},
   "outputs": [],
   "source": [
    "def find(x, a):\n",
    "    for i in range(n):\n",
    "        if a[i] == x:\n",
    "            return i\n",
    "for i in range(int(input())):\n",
    "    n, x, p, k = [int(i) for i in input().split()]\n",
    "    a = [int(i) for i in input().split()]\n",
    "    a.sort()\n",
    "    s = 0\n",
    "    if x not in a:\n",
    "        a[k-1] = x\n",
    "        a.sort()\n",
    "        s += 1\n",
    "    i = find(x, a)\n",
    "    i += 1\n",
    "    if i == p:\n",
    "        print(s)\n",
    "    elif i >= p and k <= p:\n",
    "        print(i-p + s)\n",
    "    elif i <= p and k >= p:\n",
    "        while a[i] == x:\n",
    "            i += 1\n",
    "        s += p - i     \n",
    "        print(s)\n",
    "    else:\n",
    "        print(-1)"
   ]
  },
  {
   "cell_type": "code",
   "execution_count": null,
   "metadata": {},
   "outputs": [],
   "source": [
    "def find(x, a):\n",
    "    for i in range(n):\n",
    "        if a[i] == x:\n",
    "            return i\n",
    "for i in range(int(input())):\n",
    "    n, x, p, k = [int(i) for i in input().split()]\n",
    "    a = [int(i) for i in input().split()]\n",
    "    a = list(set(a))\n",
    "    a.sort()\n",
    "    s = 0\n",
    "    if x not in a:\n",
    "        a[k-1] = x\n",
    "        a.sort()\n",
    "        s += 1\n",
    "    i = find(x, a)\n",
    "    i += 1\n",
    "    if a[p-1] == x:\n",
    "        print(s)\n",
    "    elif i >= p and k <= p:\n",
    "        print(i-p + s)\n",
    "    elif i <= p and k >= p:\n",
    "        s += p - i\n",
    "        print(s)\n",
    "    else:\n",
    "        print(-1)"
   ]
  },
  {
   "cell_type": "code",
   "execution_count": 13,
   "metadata": {},
   "outputs": [
    {
     "name": "stdout",
     "output_type": "stream",
     "text": [
      "[1, 2, 3]\n"
     ]
    }
   ],
   "source": [
    "a = [3, 1, 2, 1]\n",
    "a = list(set(a))\n",
    "a.sort()\n",
    "print(a\n",
    "     )"
   ]
  }
 ],
 "metadata": {
  "kernelspec": {
   "display_name": "Python 3",
   "language": "python",
   "name": "python3"
  },
  "language_info": {
   "codemirror_mode": {
    "name": "ipython",
    "version": 3
   },
   "file_extension": ".py",
   "mimetype": "text/x-python",
   "name": "python",
   "nbconvert_exporter": "python",
   "pygments_lexer": "ipython3",
   "version": "3.8.5"
  }
 },
 "nbformat": 4,
 "nbformat_minor": 4
}
