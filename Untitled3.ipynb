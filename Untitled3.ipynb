{
 "cells": [
  {
   "cell_type": "code",
   "execution_count": null,
   "metadata": {},
   "outputs": [],
   "source": [
    "def factorize(n):\n",
    "    factors = []\n",
    "    for i in range(2, int(n**0.5)+1):\n",
    "        if n % i == 0:\n",
    "            cntr = 0\n",
    "            while n % i == 0:\n",
    "                cntr += 1\n",
    "                n //= i\n",
    "            print(n)\n",
    "            factors.append(i**cntr)\n",
    "    if n != 1:\n",
    "        factors.append(n)\n",
    "    print(factors)\n",
    "factorize(int(input()))\n"
   ]
  },
  {
   "cell_type": "code",
   "execution_count": null,
   "metadata": {},
   "outputs": [],
   "source": [
    "import sys\n",
    "sys.setrecursionlimit(10000000)\n",
    "\n",
    "\n",
    "def primes(x):\n",
    "    f = []\n",
    "    i = 2\n",
    "    while i * i <= x:\n",
    "        if x % i == 0:\n",
    "            t = 1\n",
    "            while x % i == 0:\n",
    "                x //= i\n",
    "                t *= i\n",
    "            f.append(t)\n",
    "        i += 1\n",
    "    if x > 1:\n",
    "        f.append(x)\n",
    "    return f\n",
    "\n",
    "\n",
    "def recur(arr):\n",
    "    if len(arr) == k:\n",
    "        return sum(arr)\n",
    "    answer = float('inf')\n",
    "    for i in range(len(arr) - 1):\n",
    "        for j in range(i + 1, len(arr)):\n",
    "            temp = arr[:]\n",
    "            temp.remove(arr[i])\n",
    "            temp.remove(arr[j])\n",
    "            temp.append(arr[i] * arr[j])\n",
    "            answer = min(answer, recur(temp))\n",
    "    return answer\n",
    "\n",
    "\n",
    "for _ in range(int(input())):\n",
    "    k, X = map(int, input().split())\n",
    "    p = primes(X)\n",
    "    if k >= len(p):\n",
    "        print(sum(p) + (k - len(p)))\n",
    "        continue\n",
    "    print(recur(p))\n"
   ]
  },
  {
   "cell_type": "code",
   "execution_count": 8,
   "metadata": {},
   "outputs": [
    {
     "name": "stdout",
     "output_type": "stream",
     "text": [
      "5\n",
      "1 2 4 "
     ]
    },
    {
     "data": {
      "text/plain": [
       "4"
      ]
     },
     "execution_count": 8,
     "metadata": {},
     "output_type": "execute_result"
    }
   ],
   "source": [
    "def powerof2(n):\n",
    "    if n < 1:\n",
    "        return 0\n",
    "    elif n == 1:\n",
    "        print(1, end = \" \")\n",
    "        return 1\n",
    "    else:\n",
    "        prev = powerof2(n//2)\n",
    "        curr = 2 * prev\n",
    "        print(curr, end = \" \")\n",
    "        return curr\n",
    "powerof2(int(input()))"
   ]
  }
 ],
 "metadata": {
  "kernelspec": {
   "display_name": "Python 3",
   "language": "python",
   "name": "python3"
  },
  "language_info": {
   "codemirror_mode": {
    "name": "ipython",
    "version": 3
   },
   "file_extension": ".py",
   "mimetype": "text/x-python",
   "name": "python",
   "nbconvert_exporter": "python",
   "pygments_lexer": "ipython3",
   "version": "3.8.5"
  }
 },
 "nbformat": 4,
 "nbformat_minor": 4
}
