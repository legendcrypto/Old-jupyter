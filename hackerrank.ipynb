{
 "cells": [
  {
   "cell_type": "code",
   "execution_count": null,
   "metadata": {},
   "outputs": [],
   "source": [
    "from math import ceil\n",
    "n = float(input())\n",
    "if n != 0:\n",
    "    print(ceil(1/n))"
   ]
  },
  {
   "cell_type": "code",
   "execution_count": 5,
   "metadata": {},
   "outputs": [
    {
     "name": "stdout",
     "output_type": "stream",
     "text": [
      "4\n",
      "4 2 1 3\n",
      "2\n"
     ]
    }
   ],
   "source": [
    "n = int(input())\n",
    "li = [int(i) for i in input().split()]\n",
    "li = li[::-1]\n",
    "count = 1\n",
    "large = li[0]\n",
    "for i in range(1, n):\n",
    "    if li[i] > large:\n",
    "        count += 1\n",
    "        large = li[i]\n",
    "    \n",
    "print(count)"
   ]
  },
  {
   "cell_type": "code",
   "execution_count": null,
   "metadata": {},
   "outputs": [],
   "source": [
    "n = int(input())\n",
    "li = map(int, input().split())\n",
    "li = li[::-1]\n",
    "for i in range(1, n):\n",
    "    if li[i] < li[i-1]:\n",
    "        count += 1\n",
    "    else:\n",
    "        break\n",
    "print(count)"
   ]
  },
  {
   "cell_type": "code",
   "execution_count": 9,
   "metadata": {},
   "outputs": [
    {
     "name": "stdout",
     "output_type": "stream",
     "text": [
      "(()()\n",
      "4 1\n"
     ]
    }
   ],
   "source": [
    "s = input().strip()\n",
    "highcount = 0\n",
    "count = 0\n",
    "nohigh = 1\n",
    "stack = []\n",
    "mydict = {0:1}\n",
    "for i in s:\n",
    "    if i == \"(\":\n",
    "        if not stack:\n",
    "            count = 0\n",
    "        stack.append(i)\n",
    "\n",
    "    elif stack and i == ')':\n",
    "        if stack[-1] == '(':\n",
    "            stack.pop()\n",
    "            count += 2\n",
    "            if count > highcount:\n",
    "                highcount = count\n",
    "                mydict[highcount] = 1\n",
    "            elif count == highcount and not stack:\n",
    "                mydict[highcount] += 1\n",
    "            \n",
    "print(highcount, mydict[highcount])"
   ]
  },
  {
   "cell_type": "code",
   "execution_count": 12,
   "metadata": {},
   "outputs": [
    {
     "name": "stdout",
     "output_type": "stream",
     "text": [
      "()(\n",
      "2 1\n"
     ]
    }
   ],
   "source": [
    "s = input().strip()\n",
    "highcount = 0\n",
    "count = 0\n",
    "nohigh = 1\n",
    "stack = []\n",
    "mydict = {0:1}\n",
    "for i in s:\n",
    "    if i == \"(\":\n",
    "        if not stack:\n",
    "            count = 0\n",
    "        stack.append(i)\n",
    "\n",
    "    elif stack and i == ')':\n",
    "        if stack[-1] == '(':\n",
    "            stack.pop()\n",
    "            count += 2\n",
    "            if count > highcount and not stack:\n",
    "                highcount = count\n",
    "                mydict[highcount] = 1\n",
    "            elif count == highcount and not stack:\n",
    "                mydict[highcount] += 1\n",
    "print(highcount, mydict[highcount])\n"
   ]
  },
  {
   "cell_type": "code",
   "execution_count": 3,
   "metadata": {},
   "outputs": [
    {
     "name": "stdout",
     "output_type": "stream",
     "text": [
      "4\n",
      "1\n",
      "1.0\n",
      "[] [-1]\n",
      "2\n",
      "1.5\n",
      "[2] [-1]\n",
      "3\n",
      "2.0\n",
      "[2, 3] [-1]\n",
      "4\n",
      "2.5\n",
      "[3, 4] [-2, -1]\n"
     ]
    }
   ],
   "source": [
    "import heapq\n",
    "\n",
    "hmin = []\n",
    "hmax = []\n",
    "\n",
    "n = int(input().strip())\n",
    "for i in range(1, n+1):\n",
    "    a_t = int(input().strip())\n",
    "    \n",
    "    if not hmax or a_t < abs(hmax[0]):\n",
    "        heapq.heappush(hmax, -a_t)\n",
    "    else:\n",
    "        heapq.heappush(hmin, a_t)\n",
    "        \n",
    "    if len(hmin) - len(hmax) > 1:\n",
    "        heapq.heappush(hmax, -heapq.heappop(hmin))\n",
    "    elif len(hmax) - len(hmin) > 1:\n",
    "        heapq.heappush(hmin, -heapq.heappop(hmax))\n",
    "        \n",
    "    if len(hmin) == len(hmax):\n",
    "        print(float(hmin[0] - hmax[0] ) / 2.0)\n",
    "    elif len(hmin) < len(hmax):\n",
    "        print(float(-hmax[0]))\n",
    "    else:\n",
    "        print(float(hmin[0]))\n",
    "    print(hmin, hmax)"
   ]
  }
 ],
 "metadata": {
  "kernelspec": {
   "display_name": "Python 3",
   "language": "python",
   "name": "python3"
  },
  "language_info": {
   "codemirror_mode": {
    "name": "ipython",
    "version": 3
   },
   "file_extension": ".py",
   "mimetype": "text/x-python",
   "name": "python",
   "nbconvert_exporter": "python",
   "pygments_lexer": "ipython3",
   "version": "3.8.5"
  }
 },
 "nbformat": 4,
 "nbformat_minor": 4
}
