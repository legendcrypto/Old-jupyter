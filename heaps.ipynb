{
 "cells": [
  {
   "cell_type": "code",
   "execution_count": 19,
   "metadata": {},
   "outputs": [
    {
     "name": "stdout",
     "output_type": "stream",
     "text": [
      "[48, 45, 42, 33, 7, 8, 14, 19, 10]\n"
     ]
    }
   ],
   "source": [
    "def l(i):\n",
    "    return 2*i+1\n",
    "def r(i):\n",
    "    return 2*i+2\n",
    "def max_heap(A, i):\n",
    "    left = l(i)\n",
    "    right = r(i)\n",
    "    large = i\n",
    "    if left <= len(A) and A[left] > A[large]:\n",
    "        large = left\n",
    "    else:\n",
    "        large = i\n",
    "    if right < len(A) and A[large] < A[right]:\n",
    "        large = right\n",
    "    if large != i:\n",
    "        A[large], A[i] = A[i], A[large]\n",
    "        max_heap(A, large)\n",
    "def build_max_heap(A):\n",
    "    n = int(len(A)///2 - 1)\n",
    "    for i in range(n , -1, -1):\n",
    "        max_heap(A, i)\n",
    "\n",
    "\n",
    "A = [33, 45, 42, 10, 7, 8, 14, 19, 48]\n",
    "build_max_heap(A)\n",
    "print(A)"
   ]
  },
  {
   "cell_type": "code",
   "execution_count": 30,
   "metadata": {},
   "outputs": [
    {
     "name": "stdout",
     "output_type": "stream",
     "text": [
      "[7, 8, 10, 14, 19, 33, 42, 45, 48]\n"
     ]
    }
   ],
   "source": [
    "def l(i):\n",
    "    return 2*i+1\n",
    "def r(i):\n",
    "    return 2*i+2\n",
    "def max_heap(A, i, n):\n",
    "    left = l(i)\n",
    "    right = r(i)\n",
    "    large = i\n",
    "    if left < n and A[left] > A[large]:\n",
    "        large = left\n",
    "    else:\n",
    "        large = i\n",
    "    if right < n and A[large] < A[right]:\n",
    "        large = right\n",
    "    if large != i:\n",
    "        A[large], A[i] = A[i], A[large]\n",
    "        max_heap(A, large, n)\n",
    "def build_max_sortheap(A):\n",
    "    n = len(A)\n",
    "    for i in range(n-1 , -1, -1):\n",
    "        max_heap(A, i, n)\n",
    "    for i in range(n-1, 0, -1):\n",
    "        A[0], A[i] = A[i], A[0] \n",
    "        max_heap(A, 0, i)\n",
    "    \n",
    "\n",
    "\n",
    "A = [33, 45, 42, 10, 7, 8, 14, 19, 48]\n",
    "build_max_sortheap(A)\n",
    "print(A)"
   ]
  },
  {
   "cell_type": "code",
   "execution_count": 43,
   "metadata": {},
   "outputs": [
    {
     "name": "stdout",
     "output_type": "stream",
     "text": [
      "[51, 4, 5, 2, 1, 3]\n"
     ]
    }
   ],
   "source": []
  },
  {
   "cell_type": "code",
   "execution_count": 42,
   "metadata": {},
   "outputs": [
    {
     "name": "stdout",
     "output_type": "stream",
     "text": [
      "[51, 4, 5, 2, 1, 3]\n"
     ]
    }
   ],
   "source": [
    "def increase_key(arr,i,key):\n",
    "    if key < arr[i]:\n",
    "        print(\"Key should be greater\")\n",
    "    arr[i]=key\n",
    "    while i>=0 and arr[int((i-1)/2)] < arr[i]:\n",
    "        arr[i],arr[int((i-1)/2)] = arr[int((i-1)/2)],arr[i]\n",
    "        i = int((i-1)/2)#int is used so that i can not get negative in nature\n",
    "    print(arr)\n",
    "\n",
    "def insert_key(arr,key):\n",
    "    arr.append(key)\n",
    "    size=len(arr)\n",
    "    i=size-1\n",
    "    while i >= 0 and arr[int((i-1)/2)] < arr[i]:\n",
    "        arr[i],arr[int((i-1)/2)] = arr[int((i-1)/2)],arr[i]\n",
    "        i=int((i-1)/2)\n",
    "    print(arr)\n",
    "\n",
    "\n",
    "\n",
    "def delete_max(arr):\n",
    "    size=len(arr)\n",
    "    if size < 1:\n",
    "        print(\"UnderFlow\")\n",
    "    max_root = arr[0]\n",
    "    arr[0] = arr[size-1]\n",
    "    size=size-1\n",
    "    A = max_heapify(arr[0:size],0)\n",
    "    print('Present element at root is ',A)\n",
    "    return max_root\n",
    "\n",
    "\n",
    "\n",
    "\n",
    "\n",
    "def max_heapify(A,i):\n",
    "    l = left(i)\n",
    "    r = right(i)\n",
    "    if l < len(A) and A[l] > A[i]:\n",
    "        largest = l\n",
    "    else:\n",
    "        largest = i\n",
    "    if r < len(A) and A[r] > A[largest]:\n",
    "        largest = r\n",
    "    if largest != i:\n",
    "        A[i], A[largest] = A[largest], A[i]\n",
    "        max_heapify(A, largest)\n",
    "    return A\n",
    "\n",
    "def left(i):\n",
    "    return 2 * i + 1\n",
    "\n",
    "\n",
    "def right(i):\n",
    "    return 2 * i + 2\n",
    "A = [5, 4, 3, 2, 1]\n",
    "#A=[48,35,42,15,7,18,24]\n",
    "# print(delete_max(A))\n",
    "# print(increase_key(A,4,70))\n",
    "insert_key(A, 51)"
   ]
  }
 ],
 "metadata": {
  "kernelspec": {
   "display_name": "Python 3",
   "language": "python",
   "name": "python3"
  },
  "language_info": {
   "codemirror_mode": {
    "name": "ipython",
    "version": 3
   },
   "file_extension": ".py",
   "mimetype": "text/x-python",
   "name": "python",
   "nbconvert_exporter": "python",
   "pygments_lexer": "ipython3",
   "version": "3.8.5"
  }
 },
 "nbformat": 4,
 "nbformat_minor": 4
}
