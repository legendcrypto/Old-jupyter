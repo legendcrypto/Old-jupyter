{
 "cells": [
  {
   "cell_type": "code",
   "execution_count": null,
   "metadata": {},
   "outputs": [
    {
     "name": "stdout",
     "output_type": "stream",
     "text": [
      "3\n",
      "5\n",
      "1 0 0 0 0 \n",
      "1\n",
      "5\n",
      "1 1 1 1 1\n",
      "5\n"
     ]
    }
   ],
   "source": [
    "for i in range(int(input())):\n",
    "    n = int(input())\n",
    "    a = [int(i) for i in input().split()]\n",
    "    i = 1\n",
    "    t = a[0]\n",
    "    while t > 0 and i < n:\n",
    "        if a[i] != 0:\n",
    "            t += a[i]\n",
    "        t -= 1\n",
    "        i += 1\n",
    "    print(i+t-1)"
   ]
  },
  {
   "cell_type": "code",
   "execution_count": null,
   "metadata": {},
   "outputs": [],
   "source": [
    "for i in range(int(input())):\n",
    "    n = int(input())\n",
    "    a = [int(i) for i in input().split()]\n",
    "    i = 1"
   ]
  }
 ],
 "metadata": {
  "kernelspec": {
   "display_name": "Python 3",
   "language": "python",
   "name": "python3"
  },
  "language_info": {
   "codemirror_mode": {
    "name": "ipython",
    "version": 3
   },
   "file_extension": ".py",
   "mimetype": "text/x-python",
   "name": "python",
   "nbconvert_exporter": "python",
   "pygments_lexer": "ipython3",
   "version": "3.8.5"
  }
 },
 "nbformat": 4,
 "nbformat_minor": 4
}
