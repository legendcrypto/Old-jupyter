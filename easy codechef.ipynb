{
 "cells": [
  {
   "cell_type": "code",
   "execution_count": 22,
   "metadata": {},
   "outputs": [
    {
     "name": "stdout",
     "output_type": "stream",
     "text": [
      "1\n",
      "2\n",
      "dfdjd\n",
      "jjjjk\n",
      "1.4\n",
      "3.1999999999999997\n",
      "30\n"
     ]
    }
   ],
   "source": [
    "import math\n",
    "for _ in range(int(input())):\n",
    "    n = int(input())\n",
    "    listofwords = []\n",
    "    left = 'df'\n",
    "    right = 'jk'\n",
    "    mydict = {}\n",
    "    for j in range(n):\n",
    "        listofwords.append(input())\n",
    "    netc = 0\n",
    "    for i in range(n):\n",
    "        count = 0\n",
    "        if listofwords[i] not in mydict:\n",
    "            for c in range(len(listofwords[i])):\n",
    "                if c == 0:\n",
    "                    count += 2\n",
    "                else:\n",
    "                    if listofwords[i][c] in left and prev in right:\n",
    "                        count += 2\n",
    "                    elif listofwords[i][c] in right and prev in left:\n",
    "                        count += 2\n",
    "                    else:\n",
    "                        count += 4\n",
    "                prev = listofwords[i][c]\n",
    "            mydict[listofwords[i]] = count\n",
    "        else:\n",
    "            count += (mydict[listofwords[i]])/2\n",
    "        netc += count\n",
    "    print(int(netc))"
   ]
  },
  {
   "cell_type": "code",
   "execution_count": null,
   "metadata": {},
   "outputs": [],
   "source": [
    "for i in range(int(input())):\n",
    "    n = int(input())\n",
    "    a = [int(i) for i in input().split()]\n",
    "    odd = 0\n",
    "    for i in a:\n",
    "        if i % 2 != 0:\n",
    "            odd += 1\n",
    "    if n != 1:\n",
    "        if odd % 2 == 0:\n",
    "            print(1)\n",
    "        else:\n",
    "            print(2)\n",
    "    else:\n",
    "        print(1)"
   ]
  },
  {
   "cell_type": "code",
   "execution_count": null,
   "metadata": {},
   "outputs": [],
   "source": [
    "for i in range(int(input())):\n",
    "    n = int(input())\n",
    "    a = [int(i) for i in input().split()]\n",
    "    if n != 1:\n",
    "        if sum(a) % 2 == 0:\n",
    "            print(1)\n",
    "        else:\n",
    "            print(2)\n",
    "    else:\n",
    "        print(1)"
   ]
  },
  {
   "cell_type": "code",
   "execution_count": 8,
   "metadata": {},
   "outputs": [
    {
     "name": "stdout",
     "output_type": "stream",
     "text": [
      "1\n",
      "3\n",
      "1 3 5\n",
      "[0]\n",
      "[1]\n",
      "[2]\n",
      "1 2\n"
     ]
    }
   ],
   "source": [
    "def dfs(li, i):\n",
    "    visitedl = []\n",
    "    count = 1\n",
    "    visitedl.append(i)\n",
    "    while visitedl:\n",
    "        i = visitedl.pop(0)\n",
    "        if i not in visited:\n",
    "            visited.append(i)\n",
    "            for j in range(i+1, n):\n",
    "                if abs(li[i] - li[j]) <= 2:\n",
    "                    count += 1\n",
    "                    visited.append(j)\n",
    "                    visitedl.append(j)\n",
    "    return count    \n",
    "                    \n",
    "for _ in range(int(input())):\n",
    "    n = int(input())\n",
    "    li = [int(i) for i in input().split()]\n",
    "    maxc = 0\n",
    "    minc = 10\n",
    "    visited = []\n",
    "    for i in range(n):\n",
    "        if i not in visited:\n",
    "            count = dfs(li, i)\n",
    "            if count > maxc:\n",
    "                maxc = count\n",
    "            if count < minc:\n",
    "                minc = count\n",
    "    print(minc, maxc)"
   ]
  },
  {
   "cell_type": "code",
   "execution_count": null,
   "metadata": {},
   "outputs": [],
   "source": [
    "def dfs(li, i):\n",
    "    visitedl = []\n",
    "    count = 1\n",
    "    visitedl.append(i)\n",
    "    while visitedl:\n",
    "        i = visitedl.pop(0)\n",
    "        for j in range(i+1, n):\n",
    "            if abs(li[i] - li[j]) <= 2:\n",
    "                count += 1\n",
    "                visited.add(j)\n",
    "                visitedl.append(j)\n",
    "    return count    \n",
    "                    \n",
    "for _ in range(int(input())):\n",
    "    n = int(input())\n",
    "    li = [int(i) for i in input().split()]\n",
    "    maxc = 0\n",
    "    minc = 10\n",
    "    visited = set()\n",
    "    for i in range(n):\n",
    "        if i not in visited:\n",
    "            visited.add(i)\n",
    "            count = dfs(li, i)\n",
    "            if count > maxc:\n",
    "                maxc = count\n",
    "            if count < minc:\n",
    "                minc = count\n",
    "    print(minc, maxc)"
   ]
  },
  {
   "cell_type": "code",
   "execution_count": 12,
   "metadata": {},
   "outputs": [
    {
     "name": "stdout",
     "output_type": "stream",
     "text": [
      "3\n",
      "2\n",
      "3 6\n",
      "1 1\n",
      "3\n",
      "1 3 5\n",
      "3 3\n",
      "5\n",
      "1 2 5 6 7\n",
      "2 3\n"
     ]
    }
   ],
   "source": [
    "def dfs(li, i):\n",
    "    visitedl = []\n",
    "    count = 1\n",
    "    visitedl.append(i)\n",
    "    while visitedl:\n",
    "        p = visitedl.pop(0)\n",
    "        visited.append(p)\n",
    "        for j in range(p+1, n):\n",
    "            if j not in visited and j not in visitedl:\n",
    "                if abs(li[p] - li[j]) <= 2:\n",
    "                    count += 1\n",
    "                    visitedl.append(j)\n",
    "    return count\n",
    "                    \n",
    "for _ in range(int(input())):\n",
    "    n = int(input())\n",
    "    li = [int(i) for i in input().split()]\n",
    "    maxc = 0\n",
    "    minc = 10\n",
    "    visited = []\n",
    "    for i in range(n):\n",
    "        if i not in visited:\n",
    "            count = dfs(li, i)\n",
    "            if count > maxc:\n",
    "                maxc = count\n",
    "            if count < minc:\n",
    "                minc = count\n",
    "    print(minc, maxc)\n",
    "    "
   ]
  }
 ],
 "metadata": {
  "kernelspec": {
   "display_name": "Python 3",
   "language": "python",
   "name": "python3"
  },
  "language_info": {
   "codemirror_mode": {
    "name": "ipython",
    "version": 3
   },
   "file_extension": ".py",
   "mimetype": "text/x-python",
   "name": "python",
   "nbconvert_exporter": "python",
   "pygments_lexer": "ipython3",
   "version": "3.8.5"
  }
 },
 "nbformat": 4,
 "nbformat_minor": 4
}
